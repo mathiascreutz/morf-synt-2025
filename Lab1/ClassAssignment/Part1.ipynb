{
 "cells": [
  {
   "cell_type": "markdown",
   "metadata": {},
   "source": [
    "## Part 1. Welcome to the first lab session of the course Morphology and Syntax\n",
    "\n",
    "This page is a Jupyter notebook. It contains instructions together with *cells*, in which *Python 3* program code is written, like this: "
   ]
  },
  {
   "cell_type": "code",
   "execution_count": null,
   "metadata": {},
   "outputs": [],
   "source": [
    "print(\"Hello, everyone!\")"
   ]
  },
  {
   "cell_type": "markdown",
   "metadata": {},
   "source": [
    "You can run the program code by navigating to the cell and pressing Ctrl-Enter inside it. When you do this, Python will execute all the commands in the cell and show the output (if any) below the cell. If you execute the cell above, Python should print \"Hello, everyone!\" for you. "
   ]
  },
  {
   "cell_type": "markdown",
   "metadata": {},
   "source": [
    "Python can be used as a calculator. You can try out different calculations below. Feel free to change the calculation. Again, you make Python execute your program code by pressing Ctrl-Enter inside the cell:"
   ]
  },
  {
   "cell_type": "code",
   "execution_count": null,
   "metadata": {},
   "outputs": [],
   "source": [
    "(5 + 3) * (4 - 1) / 2"
   ]
  },
  {
   "cell_type": "markdown",
   "metadata": {},
   "source": [
    "This course is not a course on Python programming, so you will not learn how to write Python programs systematically. The idea is rather to use only a few features of the Python programming language. There will always be examples that you can adapt to the task you are solving.\n",
    "\n",
    "### 1. How not to lose your work\n",
    "\n",
    "When you are working on the CSC notebooks it is important for you to remember that your notebook application is \"alive\" for only a certain time (4 hours maximum). It is possible for you to take a break and continue working later, but if you want to keep your work, you need to make sure your notebook is stored, either **on your own computer** or **in the right place in the notebook environment**. \n",
    "\n",
    "\n",
    "#### 1.1 How to download a notebook on your own computer\n",
    "\n",
    "If you work on a notebook and the environment \"dies\", you will lose all changes that you have made. One way to make sure you don't lose your changes is to download a copy on your own computer. Later, when you start a new session, you can upload the notebook you have stored and continue working on it.\n",
    "\n",
    "You download your notebook (that is, this page that you are now seeing) by selecting *File -> Download as -> Notebook (.ipynb)*. You can select a file name and a destination folder on your own computer, where this file will be stored.\n",
    "\n",
    "When you come back later, you start a new session at CSC notebooks. First navigate to the correct folder (for instance, morf-synt-2025/Lab1/ClassAssignment/). Then click the *Upload* button in the top right corner, and choose your .ipynb file from your disk.\n",
    "\n",
    "If you work on different computers from session to session, you need to make sure that you can access your stored file. For instance, you can email the .ipynb file as an attachment to yourself or save the file on a memory stick that you take with you.\n",
    "\n",
    "**Your FIRST TASK** now is to download your notebook, store it on disk, and then upload it back. To do it properly, if you have time, you *could* log out after you have downloaded the notebook, and destroy your course environment (in the applications view you can see a button with an X on it that says \"Delete session\" when you hover over it with your mouse). Then you *could* start a new session and upload your notebook there. You then keep working on your uploaded notebook.\n",
    "\n",
    "#### 1.1.1. How to submit your work on Moodle\n",
    "\n",
    "When you are done with your home assignment, you need to upload your work on the course Moodle site. You first need to download your notebook as before: *File -> Download as -> Notebook (.ipynb)*. Store this file on the disk of your local computer. Then go to Moodle and upload the file.\n",
    "\n",
    "**Your SECOND TASK** is to practise submitting a Jupyter notebook on Moodle. There is an assignment on the course Moodle site that is called *Harjoituspalautus: tee harjoitustunnin aikana!*. Use that assignment to upload your notebook file. The teacher(s) will check that everything is okay. Do this right away. Don't wait until the end of the lab session.\n",
    "\n",
    "#### 1.2 How to store your work in the notebook environment\n",
    "\n",
    "In this CSC notebook environment, every student has a personal folder called `my-work`. If you go back to the folder view, you can navigate to that folder. It is empty initially, but whatever you store there is supposed to remain there for the entire duration of the course. You can copy the files that you want to keep into that folder. Rather than copying many files manually, you can use some help. In the `morf-synt-2025` folder there is a notebook called `copy_labs_to_my-work.ipynb`, which will do the work for you. You can open that notebook and read the instructions. \n",
    "\n",
    "A good habit could be to start every lab session by copying over any new lab contents to your own `my-work` folder and then do all your work in `my-work`. Any changes you do will then remain there from one session to another. You can also work in `morf-synt-2025`, but then all of your changes will be overwritten each time you start a new session.\n",
    "\n",
    "### 3. Getting started with morphological lexicons\n",
    "\n",
    "Now that you know how not to lose your work and you are able to submit your Python code on Moodle, it is time to actually start working on morphology. First press Control-Enter inside the cell below in order to import some code that is necessary for working with morphological lexicons. You don't need to understand this piece of code. However, you notice that Python has run the command when a number appears inside the square brackets to the left of the command. Also check that no error message appears below the cell."
   ]
  },
  {
   "cell_type": "code",
   "execution_count": null,
   "metadata": {},
   "outputs": [],
   "source": [
    "import sys\n",
    "sys.path.append(\"../../../morf-synt-2025/src\")\n",
    "from morpholexicon import *"
   ]
  },
  {
   "cell_type": "markdown",
   "metadata": {},
   "source": [
    "The morphological lexicon is still empty. There are no word forms in it, no stems and no suffixes. Let's add a so-called _sublexicon_ that contains a few English verb stems:"
   ]
  },
  {
   "cell_type": "code",
   "execution_count": null,
   "metadata": {},
   "outputs": [],
   "source": [
    "def verbstems(state):\n",
    "    entry_a(\"climb\", verbendings, state)\n",
    "    entry_a(\"lift\", verbendings, state)\n",
    "    entry_a(\"open\", verbendings, state)\n",
    "    entry_a(\"talk\", verbendings, state)\n",
    "    entry_a(\"walk\", verbendings, state)"
   ]
  },
  {
   "cell_type": "markdown",
   "metadata": {},
   "source": [
    "Again, press Ctrl-Enter inside the cell and check that a number appears inside the square brackets.\n",
    "\n",
    "The above code snippet means that we have defined a sublexicon that we call \"verbstems\". We have then listed a number of stems: climb, lift, open, talk and walk. The stems are defined inside `entry_a()` functions, which require three arguments, separated by comma:\n",
    "* The first argument is a part of a word (morpheme or stem or suffix, etc).\n",
    "* The second argument is the *continuation lexicon*, which in this case is called \"verbendings\" and which we have not defined yet. The processing will continue in the continuation lexicon, that is, we will still add something to the word.\n",
    "* The third argument keeps track of the finite _state_ we are in; you don't have to care about what it is, as long as you remember to have it there. The same \"state\" argument should also be in the verbstems definition on the first line.\n",
    "\n",
    "When you define sublexicons, it is important to remember that all entries need to be indented (pulled in to the right) in relation to the def statement.\n",
    "\n",
    "Next, we will define the verb endings:"
   ]
  },
  {
   "cell_type": "code",
   "execution_count": null,
   "metadata": {},
   "outputs": [],
   "source": [
    "def verbendings(state):\n",
    "    entry_t(\"+V+Inf\", \"\", None, state)\n",
    "    entry_t(\"+V+Pres3Sg\", \"s\", None, state)\n",
    "    entry_t(\"+V+Prog\", \"ing\", None, state)\n",
    "    entry_t(\"+V+Past\", \"ed\", None, state)"
   ]
  },
  {
   "cell_type": "markdown",
   "metadata": {},
   "source": [
    "Again, press Ctrl-Enter inside the cell to have Python execute its contents. (This is the last time you are reminded to do that, so you need to remember it from now on.)\n",
    "\n",
    "A couple of new things are going on here:\n",
    "* `entry_t` is used instead if `entry_a`. `entry_t` means a transduction from a lexical form (such as +V+Past) to a surface form (such as \"ed\").\n",
    "* `entry_a` is actually the same thing as `entry_t`, when the two first arguments are the same. So, `entry_a(\"climb\", verbendings, state)` is the same thing as `entry_t(\"climb\", \"climb\", verbendings, state)`. It is just shorter to write the string only once, if the lexical and surface forms are exactly the same.\n",
    "* The continuation lexicons for our verb endings are now called \"None\", which is a reserved word in Python. Here it means that there is no continuation of the word; the word ends right after this.\n",
    "\n",
    "Let's try out this English verb lexicon! What can we do with it?\n",
    "\n",
    "First we need to define from which sublexicon a word starts:"
   ]
  },
  {
   "cell_type": "code",
   "execution_count": null,
   "metadata": {},
   "outputs": [],
   "source": [
    "load_lexicon(verbstems, None)"
   ]
  },
  {
   "cell_type": "markdown",
   "metadata": {},
   "source": [
    "This means that we start building words from verbstems - and there are no morphophonological rules (None), but we will come back to that in the next lab session.\n",
    "\n",
    "We can generate all word forms that this lexicon recognizes:"
   ]
  },
  {
   "cell_type": "code",
   "execution_count": null,
   "metadata": {},
   "outputs": [],
   "source": [
    "generate_all()"
   ]
  },
  {
   "cell_type": "markdown",
   "metadata": {},
   "source": [
    "We can also generate just some specific forms that we are interested in:"
   ]
  },
  {
   "cell_type": "code",
   "execution_count": null,
   "metadata": {},
   "outputs": [],
   "source": [
    "generate(\"talk+V+Prog\")"
   ]
  },
  {
   "cell_type": "markdown",
   "metadata": {},
   "source": [
    "Or we can analyze a specific word form:"
   ]
  },
  {
   "cell_type": "code",
   "execution_count": null,
   "metadata": {},
   "outputs": [],
   "source": [
    "analyze(\"opens\")"
   ]
  },
  {
   "cell_type": "markdown",
   "metadata": {},
   "source": [
    "Or we can analyze all the word forms that the lexicon recognizes (the opposite of generating all the word forms):"
   ]
  },
  {
   "cell_type": "code",
   "execution_count": null,
   "metadata": {},
   "outputs": [],
   "source": [
    "analyze_all()"
   ]
  },
  {
   "cell_type": "markdown",
   "metadata": {},
   "source": [
    "We can also ask for a specific number of random surface forms. Here we ask for seven random words:"
   ]
  },
  {
   "cell_type": "code",
   "execution_count": null,
   "metadata": {},
   "outputs": [],
   "source": [
    "show_random_wordforms(7)"
   ]
  },
  {
   "cell_type": "markdown",
   "metadata": {},
   "source": [
    "Or we can ask for a specific number of random analyses. Here was ask for nine of them:"
   ]
  },
  {
   "cell_type": "code",
   "execution_count": null,
   "metadata": {},
   "outputs": [],
   "source": [
    "show_random_analyses(9)"
   ]
  },
  {
   "cell_type": "markdown",
   "metadata": {},
   "source": [
    "If you rerun the show-random cells above, you can see that the output is different every time.\n",
    "\n",
    "When you feel that you have worked enough on this page, you can move on to **Part 2** of the class assignment of Lab 1."
   ]
  }
 ],
 "metadata": {
  "kernelspec": {
   "display_name": "Python 3 (ipykernel)",
   "language": "python",
   "name": "python3"
  },
  "language_info": {
   "codemirror_mode": {
    "name": "ipython",
    "version": 3
   },
   "file_extension": ".py",
   "mimetype": "text/x-python",
   "name": "python",
   "nbconvert_exporter": "python",
   "pygments_lexer": "ipython3",
   "version": "3.10.6"
  }
 },
 "nbformat": 4,
 "nbformat_minor": 2
}
