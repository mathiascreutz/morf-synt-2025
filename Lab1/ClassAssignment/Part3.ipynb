{
 "cells": [
  {
   "cell_type": "markdown",
   "metadata": {},
   "source": [
    "## Part 3. Multiple verb paradigms\n",
    "\n",
    "Things get a bit more interesting when not all words are inflected in exactly the same way. In the program below, there are two regular English verb inflection paradigms: the fully regular one from before and another paradigm for verb stems that lose their final -e in some situations:"
   ]
  },
  {
   "cell_type": "code",
   "execution_count": null,
   "metadata": {},
   "outputs": [],
   "source": [
    "# Common settings for using morphology\n",
    "import sys\n",
    "sys.path.append(\"../../../morf-synt-2025/src\")\n",
    "from morpholexicon import *\n",
    "\n",
    "# Actual morphology goes here\n",
    "\n",
    "def verbstems(state):\n",
    "    \"\"\" Sublexicon for English verb stems \"\"\"\n",
    "    entry_a(\"climb\", verbendings, state)\n",
    "    entry_a(\"lift\", verbendings, state)\n",
    "    entry_a(\"open\", verbendings, state)\n",
    "    entry_a(\"talk\", verbendings, state)\n",
    "    entry_a(\"walk\", verbendings, state)\n",
    "\n",
    "    entry_t(\"bake\", \"bak\", verbendings_e, state)\n",
    "    entry_t(\"invite\", \"invit\", verbendings_e, state)\n",
    "    entry_t(\"like\", \"lik\", verbendings_e, state)\n",
    "    entry_t(\"mute\", \"mut\", verbendings_e, state)\n",
    "    entry_t(\"suppose\", \"suppos\", verbendings_e, state)\n",
    "        \n",
    "def verbendings(state):\n",
    "    \"\"\" Sublexicon for fully regular English verb endings \"\"\"\n",
    "    entry_t(\"+V+Inf\", \"\", None, state)\n",
    "    entry_t(\"+V+Pres3Sg\", \"s\", None, state)\n",
    "    entry_t(\"+V+Prog\", \"ing\", None, state)\n",
    "    entry_t(\"+V+Past\", \"ed\", None, state)\n",
    "\n",
    "def verbendings_e(state):\n",
    "    \"\"\" Sublexicon for English verb endings, when stem-final -e\n",
    "    is dropped \"\"\"\n",
    "    entry_t(\"+V+Inf\", \"e\", None, state)\n",
    "    entry_t(\"+V+Pres3Sg\", \"es\", None, state)\n",
    "    entry_t(\"+V+Prog\", \"ing\", None, state)\n",
    "    entry_t(\"+V+Past\", \"ed\", None, state)\n",
    "\n",
    "# The main program starts here\n",
    "\n",
    "# First load the lexicon and tell Python that \"verbstems\" is the starting point\n",
    "load_lexicon(verbstems, None)\n",
    "\n",
    "# Then dig out some information from this lexicon\n",
    "\n",
    "generate(\"mute+V+Prog\")\n",
    "analyze(\"invites\")\n",
    "\n",
    "generate_all()\n",
    "\n",
    "show_random_wordforms(4)\n",
    "show_random_analyses(4)\n",
    "\n",
    "# End of program"
   ]
  },
  {
   "cell_type": "markdown",
   "metadata": {},
   "source": [
    "What you should notice here is that there is a new sublexicon called \"verbendings_e\". Now some of the verb stems continue to the sublexicon \"verbendings\" as before, whereas some stems continue to \"verbendings_e\".\n",
    "\n",
    "What you should also notice is that `entry_t` is used for the new verb stems rather than `entry_a`. This is because the lexical form and surface form of these new verb stems are different. The surface form does not have a final -e, because this -e has been put in the endings sublexicon instead -- but only in the forms that need it. The progressive -ing should not have an -e at all.\n",
    "\n",
    "Your next task is to **add verbs that end in -y** (such as apply, clarify, cry and try) as well as **verbs that end in a sibilant** (such as crush, fix, kiss and match). You need two new sublexicons for that purpose.\n",
    "\n",
    "In addition to the paradigms that have been already mentioned, further **add verbs that end in a single consonant that is doubled** (such as grab, hug, nod, plot, regret, snap, span, stop and wrap). You don't have to cover all stem-final consonants; you can pick a couple of them. \n",
    "\n",
    "When all verb forms generate properly, whether ending in -e, -y, a sibilant or a single consonant, you can continue to **Part 4**."
   ]
  }
 ],
 "metadata": {
  "kernelspec": {
   "display_name": "Python 3 (ipykernel)",
   "language": "python",
   "name": "python3"
  },
  "language_info": {
   "codemirror_mode": {
    "name": "ipython",
    "version": 3
   },
   "file_extension": ".py",
   "mimetype": "text/x-python",
   "name": "python",
   "nbconvert_exporter": "python",
   "pygments_lexer": "ipython3",
   "version": "3.10.6"
  }
 },
 "nbformat": 4,
 "nbformat_minor": 2
}
