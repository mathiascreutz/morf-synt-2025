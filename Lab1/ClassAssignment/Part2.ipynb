{
 "cells": [
  {
   "cell_type": "markdown",
   "metadata": {},
   "source": [
    "## Part 2. Adding verb stems to the lexicon\n",
    "\n",
    "You can keep Part 1 open in another tab, if you need to go back and check som details.\n",
    "\n",
    "Below you can see the entire Python program from Part 1 collected into one single cell. In addition to combining all code into one piece, so-called _docstrings_ and _comments_ have been added, so that a human reader can understand the code better.\n",
    "\n",
    "You can now run the whole program at once:"
   ]
  },
  {
   "cell_type": "code",
   "execution_count": null,
   "metadata": {},
   "outputs": [],
   "source": [
    "# This code is for importing some necessary functionality.\n",
    "# You don't have to understand it:\n",
    "import sys\n",
    "sys.path.append(\"../../../morf-synt-2025/src\")\n",
    "from morpholexicon import *\n",
    "\n",
    "# Here's the code for the morphology\n",
    "\n",
    "def verbstems(state):\n",
    "    \"\"\" Sublexicon for English verb stems\n",
    "    \n",
    "        Note: this text that is placed right under the def line\n",
    "        and that is enclosed within triple quotes is a docstring.\n",
    "        It is for documenting what this sublexicon does. Python\n",
    "        will not care what you write here, but it makes your code\n",
    "        clearer to yourself and other human readers.\n",
    "    \"\"\"\n",
    "    entry_a(\"climb\", verbendings, state)\n",
    "    entry_a(\"lift\", verbendings, state)\n",
    "    entry_a(\"open\", verbendings, state)\n",
    "    entry_a(\"talk\", verbendings, state)\n",
    "    entry_a(\"walk\", verbendings, state)\n",
    "\n",
    "def verbendings(state):\n",
    "    \"\"\" Sublexicon for regular English verb endings \"\"\"\n",
    "    entry_t(\"+V+Inf\", \"\", None, state)\n",
    "    entry_t(\"+V+Pres3Sg\", \"s\", None, state)\n",
    "    entry_t(\"+V+Prog\", \"ing\", None, state)\n",
    "    entry_t(\"+V+Past\", \"ed\", None, state)\n",
    "\n",
    "# The main program starts here\n",
    "\n",
    "# Anything that comes after a hashtag character until the end of a\n",
    "# line is called a comment; it is meant for human readers. Python does not\n",
    "# care about it. Comments can be placed almost anywhere in a program, unlike\n",
    "# docstrings that can only be placed at the very beginning of the program\n",
    "# or at the beginning of sublexicons (= Python functions)\n",
    "\n",
    "# First load the lexicon and tell Python that \"verbstems\" is the starting point\n",
    "load_lexicon(verbstems, None)\n",
    "\n",
    "# Then dig out some information from this lexicon\n",
    "\n",
    "generate(\"talk+V+Prog\")\n",
    "analyze(\"opens\")\n",
    "\n",
    "generate_all()\n",
    "analyze_all()\n",
    "\n",
    "show_random_wordforms(7)\n",
    "show_random_analyses(9)\n",
    "\n",
    "# End of program"
   ]
  },
  {
   "cell_type": "markdown",
   "metadata": {},
   "source": [
    "Your task is now to **add more English verb stems to the verbstem sublexicon**. Make sure that you pick verbs that work with the given endings sublexicon. If you add irregular verbs or verbs with some alternation in the stem or ending, then you will not get proper surface forms of your verbs. Naturally, you can also test to see what such bad inflections look like.\n",
    "\n",
    "Rerun the program and study the result. You can also modify the commands that print information about your lexicon. You don't have to show exactly seven random surface forms. You don't have to show _any_ random surface forms. Etc.\n",
    "\n",
    "When you are done adding more stems and feel confident about how this works, you can continue to **Part 3**."
   ]
  }
 ],
 "metadata": {
  "kernelspec": {
   "display_name": "Python 3 (ipykernel)",
   "language": "python",
   "name": "python3"
  },
  "language_info": {
   "codemirror_mode": {
    "name": "ipython",
    "version": 3
   },
   "file_extension": ".py",
   "mimetype": "text/x-python",
   "name": "python",
   "nbconvert_exporter": "python",
   "pygments_lexer": "ipython3",
   "version": "3.10.6"
  }
 },
 "nbformat": 4,
 "nbformat_minor": 2
}
