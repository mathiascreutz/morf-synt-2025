{
 "cells": [
  {
   "cell_type": "markdown",
   "metadata": {},
   "source": [
    "## Home assignment from Lab 1: Your own morphological lexicon\n",
    "\n",
    "As your home assignment from this lab, you need to create your own morphological lexicon. Use the examples from the lab session in class as your guide to how things are done.\n",
    "\n",
    "Below you can see a template that you can work on:"
   ]
  },
  {
   "cell_type": "code",
   "execution_count": null,
   "metadata": {},
   "outputs": [],
   "source": [
    "# Configure the morphology package\n",
    "import sys\n",
    "sys.path.append(\"../../../morf-synt-2025/src\")\n",
    "from morpholexicon import *\n",
    "\n",
    "# Your morphology goes here:\n",
    "\n",
    "def root(state):\n",
    "    \"\"\" Root lexicon: this is where all words start \"\"\"\n",
    "    pass # you need to replace this pass command with some real stuff\n",
    "\n",
    "# Then add your sublexicons here\n",
    "\n",
    "# ...\n",
    "\n",
    "# The main program starts here\n",
    "\n",
    "# First load the lexicon and tell Python that \"root\" is the starting point\n",
    "load_lexicon(root, None)\n",
    "\n",
    "# Generate all surface forms recognized by this lexicon\n",
    "generate_all()\n",
    "\n",
    "# Do something else ...\n",
    "\n",
    "# End of program"
   ]
  },
  {
   "cell_type": "markdown",
   "metadata": {},
   "source": [
    "## **What kind of lexicon should you build?**\n",
    "1. You can build your lexicon based on _Task 2 of the First language technology assignment: Sketch of layered morphological structure_. It is an excellent opportunity to actually put theory into practice and see what it takes to make your sketch really work.\n",
    "2. You can also work on the _morphological structure of Finnish nouns_ as they are outlined on page 72 of the slides of the first language technology lecture of the course. The title of the slide is _Layered morphological structure of Finnish nouns_.\n",
    "3. You can also pick another application of \"layered morphological structure\", as long as it is not English regular verbs, nouns or adjectives straight from the lab session.\n",
    "4. Use purely concatenative morphology (Item & Arrangement) in this assignment. Do not use any replace rules.\n",
    "\n",
    "**More details (read carefully):**\n",
    "* Your lexicon must have a lexical level with grammatical labels/tags (such as dog+N+Pl+Nom) and a surface level with surface word forms (such as dogs). To get an idea of what morphological tags there can be in a language, you can have a look at the tags produced by the demo in _Task 1 of the First language technology assignment: Test automatic morphological analyzers_.\n",
    "* If you work on Finnish nouns, there is an *error in the sketch on lecture slide 72*, because nominative (without any ending) is allowed after plural -i-, which produces surface forms like \"taloi\" or \"taloimmekin\". Try to fix this error.\n",
    "* When you are done, download your Jupyter notebook as a notebook file (.ipynb) and upload it on Moodle. Make sure that you have executed the `generate_all()` command in your code, so that all the generated forms are visible in your submission.\n",
    "* In order not to lose your work, download your notebook regularly, even before it is ready for submission. Upload the notebook file again, if you start a new session. (Or, make sure you are working in the `my-work` directory tree, where changes are not lost.) \n",
    "* If you are an advanced student and start thinking about changing the morpholexicon platform, then don't do it for this assignment. You need to return one stand-alone Python program that works with our standard morpholexicon platform and does not require other specialized libraries.\n",
    "* Once again: Use purely concatenative morphology (Item & Arrangement) in this assignment. Do not use any replace rules.\n",
    "\n",
    "**Grading:**\n",
    "* This assignment is graded on the scale 0 - 4 points.\n",
    "* Criteria that are used in the grading involve:\n",
    "    * grammatical correctness of the surface forms produced,\n",
    "    * good use of grammatical tags in the lexical forms,\n",
    "    * reasonable coverage of some phenomenon,\n",
    "    * clarity in the structure, and\n",
    "    * a reasonable number of word stems covered (not just a few).\n",
    "* For instance:\n",
    "    * You don't have to cover vowel harmony in Finnish. You can have just words with back vowels or just words with front vowels in your model. However, then make an effort to have a good coverage of the morpheme layers (such as talo+ssa+ni+kin+ko+han). Or, if you choose to model vowel harmony, you can leave something else out, as long as you produce a coherent \"package\".\n",
    "    * Please, also add more noun stems than just \"talo\" and \"koulu\".\n",
    "* You are very welcome to work on something else than Finnish nouns. If it turns out that you don't manage to produce an error-free lexicon (which is likely), you might still get good, or even full, points, if we see that you put some serious effort into the task.\n",
    "\n",
    "Good luck!\n",
    "    "
   ]
  }
 ],
 "metadata": {
  "kernelspec": {
   "display_name": "Python 3 (ipykernel)",
   "language": "python",
   "name": "python3"
  },
  "language_info": {
   "codemirror_mode": {
    "name": "ipython",
    "version": 3
   },
   "file_extension": ".py",
   "mimetype": "text/x-python",
   "name": "python",
   "nbconvert_exporter": "python",
   "pygments_lexer": "ipython3",
   "version": "3.10.6"
  }
 },
 "nbformat": 4,
 "nbformat_minor": 2
}
