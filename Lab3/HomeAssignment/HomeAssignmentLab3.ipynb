{
 "cells": [
  {
   "cell_type": "markdown",
   "metadata": {},
   "source": [
    "## Home assignment for Lab3: Finnish Context Free Grammar\n",
    "\n",
    "This home assignment basically consists of one task. The task is worth 4 points.\n",
    "\n",
    "Before you start working on the assignment, you need to import the NLTK library:"
   ]
  },
  {
   "cell_type": "code",
   "execution_count": null,
   "metadata": {},
   "outputs": [],
   "source": [
    "import sys\n",
    "!{sys.executable} -m pip install nltk\n",
    "import nltk"
   ]
  },
  {
   "cell_type": "markdown",
   "metadata": {},
   "source": [
    "You need to create a context free grammar that covers the following Finnish sentences as well as other sentences containing the same vocabulary and similar syntactic structure. Don't change these sentences:"
   ]
  },
  {
   "cell_type": "code",
   "execution_count": null,
   "metadata": {},
   "outputs": [],
   "source": [
    "sents = [ \\\n",
    "         \"hiiri syö juuston\",\n",
    "         \"kettu huomaa hiiren\",\n",
    "         \"ovela kettu näkee pienen hiiren\",\n",
    "         \"pieni hiiri syö ison juuston\",\n",
    "         \"ovela hiiri syö ruman hiiren ison juuston\",\n",
    "         \"ruma hiiri näkee ison ketun\",\n",
    "         \"kettu syö ruman hiiren\",\n",
    "         \"ruma iso hiiri huomaa kömpelön ketun\",\n",
    "         \"ovela hiiri syö kömpelön ketun pienen juuston\",\n",
    "         \"pieni kettu huomaa ruman ovelan ketun kömpelön hiiren juuston\",\n",
    "         \"iso kömpelö hiiri näkee ison juuston pienen juuston ruman juuston\",\n",
    "         \"ovelan ketun iso juusto näkee ruman pienen hiiren hiiren\",\n",
    "         \"ison kömpelön hiiren ruma kömpelö hiiri syö ison ruman juuston\",\n",
    "         \"iso iso kettu huomaa pienen pienen hiiren\",\n",
    "         \"ketun hiiren ison juuston kettu syö pienen ruman ketun hiiren kömpelön juuston\",\n",
    "         \"ison kömpelön juuston pienen ruman hiiren iso kettu huomaa ovelan pienen hiiren ketun\",\n",
    "         \"iso hiiri syö pienen hiiren\"\n",
    "        ]"
   ]
  },
  {
   "cell_type": "markdown",
   "metadata": {},
   "source": [
    "Enter your context free grammar here below. When there are different inflected forms of the same lexeme, such as \"hiiri\" and \"hiiren\", then have them as separate word forms in your grammar. The purpose is not to model the internal morphological structure of words here (unlike in Labs 1 and 2)."
   ]
  },
  {
   "cell_type": "code",
   "execution_count": null,
   "metadata": {},
   "outputs": [],
   "source": [
    "grammar_fin = nltk.CFG.fromstring(\"\"\"\n",
    "  S -> REPLACE THIS AND ADD YOUR OWN RULES HERE\n",
    "\"\"\")"
   ]
  },
  {
   "cell_type": "markdown",
   "metadata": {},
   "source": [
    "Then test your grammar by running the code below (which you do not have to change in any way or understand fully). Make sure that your grammar can parse every sentence in the test set. Also read the additional instructions further below."
   ]
  },
  {
   "cell_type": "code",
   "execution_count": null,
   "metadata": {},
   "outputs": [],
   "source": [
    "rd_parser = nltk.ChartParser(grammar_fin)\n",
    "for i, sent in enumerate(sents):\n",
    "    print(\"Sentence #{:d}: {:s}\".format(i, sent))\n",
    "    trees = rd_parser.parse(sent.split())\n",
    "    for tree in trees:\n",
    "        print(tree.pformat(parens='[]'))\n",
    "    print()"
   ]
  },
  {
   "cell_type": "markdown",
   "metadata": {},
   "source": [
    "Your grammar must make sure that the inflections are grammatical. The subject must be in nominative (\"kettu\") and the object must be in accusative, which is identical to genitive in this case (\"hiiren\").\n",
    "\n",
    "Attributes are possible, both for the subject and the object (\"_ovela_ kettu\", \"_pienen_ hiiren\", \"_hiiren_ kettu\", \"_ketun_ hiiren\"). The genitive attributes can have their own adjective attributes (\"_pienen_ hiiren kettu\") and genitive attributes (\"_juuston_ hiiren kettu\").\n",
    "\n",
    "In order to model the possible chains of attributes, you need to use **recursion**. This means that in some rules the same non-terminal symbol occurs in both the left-hand and right-hand side of the rule.\n",
    "\n",
    "You need to download this jupyter notebook page as a notebook (.ipynb) file and return that file as part of your Moodle submission. In addition to filling in your own grammar on this page, you need to answer two questions and plot a couple of parse trees.\n",
    "\n",
    "**Question 1: What kind of attachment ambiguity may emerge in this grammar and why?**\n",
    "\n",
    "Enter your answer in the code block here below as a comment:"
   ]
  },
  {
   "cell_type": "code",
   "execution_count": null,
   "metadata": {},
   "outputs": [],
   "source": [
    "# Answer 1:"
   ]
  },
  {
   "cell_type": "markdown",
   "metadata": {},
   "source": [
    "As an additional requirement, make sure that your grammar contains as *little attachment ambiguity as possible*, by limiting the types of recursion in your rules to the *semantically most logical* ones. In order to reduce ambiguity, give some thought to what bracketing would work best for the following types of phrases:\n",
    "* \"iso ruma kömpelö juusto\"\n",
    "* \"ketun hiiren juuston kettu\"\n",
    "* \"ison kömpelön ketun ruman hiiren pienen juuston\"\n",
    "\n",
    "**Question 2: Is it possible to get rid of attachment ambiguity entirely and still cover the syntax of all given test sentences?**\n",
    "\n",
    "Enter your answer in the code block here below as a comment:"
   ]
  },
  {
   "cell_type": "code",
   "execution_count": null,
   "metadata": {},
   "outputs": [],
   "source": [
    "# Answer 2:"
   ]
  },
  {
   "cell_type": "markdown",
   "metadata": {},
   "source": [
    "Finally, you need to plot some parse trees using the syntax tree generator at http://mshang.ca/syntree/. Download the plots as picture files and submit them on Moodle together with the notebook file.\n",
    "\n",
    "**Plot the parse trees that your grammar produces for the following sentences:**\n",
    "\n",
    "* _Sentence \\#3:_ pieni hiiri syö ison juuston\n",
    "* _Sentence \\#4:_ ovela hiiri syö ruman hiiren ison juuston\n",
    "* _Sentence \\#15:_ ison kömpelön juuston pienen ruman hiiren iso kettu huomaa ovelan pienen hiiren ketun\n",
    "\n",
    "If there are more than one parse tree for any of the three sentences, plot all parse trees. However, if there are more than three parse trees for one single sentence, then you only need to plot three different trees (at your own choice) for the sentence.\n",
    "\n",
    "Good luck!"
   ]
  }
 ],
 "metadata": {
  "kernelspec": {
   "display_name": "Python 3 (ipykernel)",
   "language": "python",
   "name": "python3"
  },
  "language_info": {
   "codemirror_mode": {
    "name": "ipython",
    "version": 3
   },
   "file_extension": ".py",
   "mimetype": "text/x-python",
   "name": "python",
   "nbconvert_exporter": "python",
   "pygments_lexer": "ipython3",
   "version": "3.10.6"
  }
 },
 "nbformat": 4,
 "nbformat_minor": 2
}
