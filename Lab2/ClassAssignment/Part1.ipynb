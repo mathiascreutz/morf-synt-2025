{
 "cells": [
  {
   "cell_type": "markdown",
   "metadata": {},
   "source": [
    "## Part 1. Welcome to the second lab session\n",
    "\n",
    "This time we will focus on **replace rules** that are expressed using **regular expressions**. We will also see how rules can be incorporated in a morphological lexicon, such that we move on from using models based on Item & Arrangement (I&A) to models based on Item & Process (I&P).\n",
    "\n",
    "The first code cell below demonstrates one single replace rule that is applied to two words: _mamma_ and _pappa_. Note the following:\n",
    "* In the beginning of your code, you need to perform the import from morpholexicon, as before.\n",
    "* You need a function that will contain all your rules. You can name the function as you like; here we simply call it _rules_.\n",
    "* The rules function takes one parameter, here called _input_.\n",
    "* The rules function contains one or multiple replace rules, expressed using the _replace_ function, which takes five parameters, which are the following:\n",
    "    1. the string to be replaced\n",
    "    2. the replacement string (= what the string is replaced by)\n",
    "    3. the left context that needs to match in order for the replacement to take place\n",
    "    4. the right context that needs to match in order for the replacement to take place\n",
    "    5. the _input_ parameter\n",
    "    \n",
    "\n",
    "* The four first parameters are all **regular expressions**. We went through the syntax of Python regular expressions during the second language technology lecture.\n",
    "* It is strongly recommended that you use so-called _raw strings_ to express regular expressions:\n",
    "    * A raw string is written like a Python string, but there is a small letter 'r' in front of it; for instance:\n",
    "        * `\"This is a normal Python string written with double quotes.\"`\n",
    "        * `'This is a normal Python string written with single quotes.'`\n",
    "        * `r\"This is a Python raw string written with double quotes.\"`\n",
    "        * `r'This is a Python raw string written with single quotes.'`\n",
    "    * You can use single or double quotes, as you wish. Here we use single quotes for raw strings in order for the code to look \"less messy\".\n",
    "    * You don't have to use raw strings for regular expressions, but then you will need to use backslash \\ as an escape character in many obvious and less obvious places, which increases the risks of _bugs_ in your code.\n",
    "* Below you can also see how you can apply your rule(s) to some input words.\n",
    "* Press Ctrl-Enter inside the cell below to see what it produces. Can you understand what goes on here?"
   ]
  },
  {
   "cell_type": "code",
   "execution_count": null,
   "metadata": {},
   "outputs": [],
   "source": [
    "import sys\n",
    "sys.path.append(\"../../../morf-synt-2025/src\")\n",
    "from morpholexicon import *\n",
    "\n",
    "def rules(input):\n",
    "    # Rule: a -> o / [mp] _\n",
    "    # That is: replace a with o, when preceded by m or p (and followed by anything)\n",
    "    replace(r'a', r'o', r'[mp]', r'', input)\n",
    "    \n",
    "apply(rules, \"mamma\")\n",
    "apply(rules, \"pappa\")"
   ]
  },
  {
   "cell_type": "markdown",
   "metadata": {},
   "source": [
    "Next, we keep our first rule, but add a second one. What happens now?"
   ]
  },
  {
   "cell_type": "code",
   "execution_count": null,
   "metadata": {},
   "outputs": [],
   "source": [
    "def rules(input):\n",
    "    # Rule 1: a -> o / [mp] _\n",
    "    # That is: replace a with o, when preceded by a m or p (and followed by anything)\n",
    "    replace(r'a', r'o', r'[mp]', r'', input)\n",
    "\n",
    "    # Rule 2: p -> b / _\n",
    "    # That is: replace p with b anywhere\n",
    "    replace(r'p', r'b', r'', r'', input)\n",
    "    \n",
    "apply(rules, \"mamma\")\n",
    "apply(rules, \"pappa\")"
   ]
  },
  {
   "cell_type": "markdown",
   "metadata": {},
   "source": [
    "The more rules you have, the trickier it is to follow what goes on. If you want to trace the flow of replacements that take place on your input word, you can add an extra parameter to your apply call: debug=True."
   ]
  },
  {
   "cell_type": "code",
   "execution_count": null,
   "metadata": {},
   "outputs": [],
   "source": [
    "apply(rules, \"mamma\", debug=True)\n",
    "apply(rules, \"pappa\", debug=True)"
   ]
  },
  {
   "cell_type": "markdown",
   "metadata": {},
   "source": [
    "Also note that the order of the rules matter. The next rule in the chain takes over where the previous rule has left the string. So, the output of the previous rule becomes the input of the next rule.\n",
    "\n",
    "Below we have added a third rule. Explain what the third rule does."
   ]
  },
  {
   "cell_type": "code",
   "execution_count": null,
   "metadata": {
    "scrolled": false
   },
   "outputs": [],
   "source": [
    "def rules(input):\n",
    "    # Rule 1: a -> o / [mp] _\n",
    "    # That is: replace a with o, when preceded by a m or p (and followed by anything)\n",
    "    replace(r'a', r'o', r'[mp]', r'', input)\n",
    "\n",
    "    # Rule 2: p -> b / _\n",
    "    # That is: replace p with b anywhere\n",
    "    replace(r'p', r'b', r'', r'', input)\n",
    "    \n",
    "    # Rule 3: b -> m / [aeiouyåäö] _ [pbm]\n",
    "    # What does this rule do actually?\n",
    "    replace(r'b', r'm', r'[aeiouyåäö]', r'[pbm]', input)\n",
    "    \n",
    "apply(rules, \"mamma\", debug=True)\n",
    "apply(rules, \"pappa\", debug=True)"
   ]
  },
  {
   "cell_type": "markdown",
   "metadata": {},
   "source": [
    "Next, we have added two more rules. Figure out what goes on here!"
   ]
  },
  {
   "cell_type": "code",
   "execution_count": null,
   "metadata": {},
   "outputs": [],
   "source": [
    "def rules(input):\n",
    "    # Rule 1: a -> o / [mp] _\n",
    "    # That is: replace a with o, when preceded by a m or p (and followed by anything)\n",
    "    replace(r'a', r'o', r'[mp]', r'', input)\n",
    "\n",
    "    # Rule 2: p -> b / _\n",
    "    # That is: replace p with b anywhere\n",
    "    replace(r'p', r'b', r'', r'', input)\n",
    "    \n",
    "    # Rule 3: b -> m / [aeiouyåäö] _ [pbm]\n",
    "    # What does this rule do actually?\n",
    "    replace(r'b', r'm', r'[aeiouyåäö]', r'[pbm]', input)\n",
    "\n",
    "    # Rule 4: ?\n",
    "    replace(r'o', r'um', r'', r'$', input)\n",
    "    \n",
    "    # Rule 5: ?\n",
    "    replace(r'', r'ka', r'^', r'', input)\n",
    "    \n",
    "apply(rules, \"mamma\", debug=True)\n",
    "apply(rules, \"pappa\", debug=True)"
   ]
  },
  {
   "cell_type": "markdown",
   "metadata": {},
   "source": [
    "When you are done here, continue to Part 2."
   ]
  }
 ],
 "metadata": {
  "kernelspec": {
   "display_name": "Python 3 (ipykernel)",
   "language": "python",
   "name": "python3"
  },
  "language_info": {
   "codemirror_mode": {
    "name": "ipython",
    "version": 3
   },
   "file_extension": ".py",
   "mimetype": "text/x-python",
   "name": "python",
   "nbconvert_exporter": "python",
   "pygments_lexer": "ipython3",
   "version": "3.10.6"
  }
 },
 "nbformat": 4,
 "nbformat_minor": 2
}
