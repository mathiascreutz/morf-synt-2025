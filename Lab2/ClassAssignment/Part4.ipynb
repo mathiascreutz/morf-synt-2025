{
 "cells": [
  {
   "cell_type": "markdown",
   "metadata": {},
   "source": [
    "## Part 4. Reduplication ##\n",
    "\n",
    "In this part, we introduce a new feature called **matching groups**. In the example below, we perform *full stem reduplication for Malay nouns*. In Malay, plural forms can be formed by simply duplicating the stem. We implement this with the help of matching groups. Execute the code in the cell to see what happens:"
   ]
  },
  {
   "cell_type": "code",
   "execution_count": null,
   "metadata": {},
   "outputs": [],
   "source": [
    "import sys\n",
    "sys.path.append(\"../../../morf-synt-2025/src\")\n",
    "from morpholexicon import *\n",
    "\n",
    "def rules(input):\n",
    "    \"\"\" Stem reduplication in Malay nouns \"\"\"\n",
    "    replace(r'(?P<stem>.+)', r'\\g<stem>\\g<stem>', r'^', r'$', input)\n",
    "    \n",
    "apply(rules, \"buku\", debug=True)       # buku means book, bukubuku means books\n",
    "apply(rules, \"lembu\", debug=True)      # lembu means cow, lembulembu means cows\n",
    "apply(rules, \"pelabuhan\", debug=True)  # pelabuhan means harbor, pelabuhanpelabuhan means harbors"
   ]
  },
  {
   "cell_type": "markdown",
   "metadata": {},
   "source": [
    "How does this work?\n",
    "\n",
    "First look at the left and right contexts: To the left we have ^ (beginning of string) and to the right we have $ (end of string). That is, the string to be replaced must match the _entire_ string from beginning to end.\n",
    "\n",
    "What do we replace? We can see .+ (a dot followed by a plus sign). This regular expression means any string consisting of one or more characters. So, indeed we replace any string that spans from our left to right context (from beginning of string to end of string).\n",
    "\n",
    "Around .+ we have brackets ( ) and the label ?P&lt;stem&gt;. This label means that we assign our own name _stem_ to whatever string we match inside the brackets. That is, we match .+ (any string) and assign that value to a variable  called _stem_. Usually this is called a matching group, here called _stem_. Note that the brackets and the label are not part of the string that is actually matched.\n",
    "\n",
    "In the replacement string, we see \\g&lt;stem&gt;\\g&lt;stem&gt;. When we type \\g&lt;stem&gt;, we say: \"into this place insert the value that we have captured using (?P&lt;stem&gt;)\". Since \\g&lt;stem&gt; is written twice, we print the same value twice, so we end up producing reduplication. Just what we wanted!\n",
    "\n",
    "Let us take another example. *Limited reduplication in Tagalog verbs* is shown below. Now the reduplication only applies to the first syllable in the stem. The syllable consists of a consonant followed by a vowel. Here we call our matching group _CV_ (C meaning consonant, V meaning vowel). Python does not understand that C means consonant and V means vowel, but as you can see, our matching group contains a regular expression that precisely matches a consonant followed by a vowel: [bcdfghjklmnpqrstvwxyz][aeiou] "
   ]
  },
  {
   "cell_type": "code",
   "execution_count": null,
   "metadata": {
    "scrolled": true
   },
   "outputs": [],
   "source": [
    "def rules(input):\n",
    "    \"\"\" Limited reduplication in Tagalog verbs \"\"\"\n",
    "    replace(r'(?P<CV>[bcdfghjklmnpqrstvwxyz][aeiou])', r'\\g<CV>\\g<CV>', r'^', r'', input)\n",
    "    \n",
    "apply(rules, \"pili\", debug=True)\n",
    "apply(rules, \"tahi\", debug=True)\n",
    "apply(rules, \"kuha\", debug=True)"
   ]
  },
  {
   "cell_type": "markdown",
   "metadata": {},
   "source": [
    "As our next step, we incorporate reduplication rules within a lexicon. Below you see a lexicon for Malay nouns. To begin with, there are no replace rules:"
   ]
  },
  {
   "cell_type": "code",
   "execution_count": null,
   "metadata": {},
   "outputs": [],
   "source": [
    "def root(state):\n",
    "    entry_a(\"\", malay_stems, state)\n",
    "    \n",
    "def malay_stems(state):\n",
    "    entry_a(\"buku\", malay_nouns, state)\n",
    "    entry_a(\"lembu\", malay_nouns, state)\n",
    "    entry_a(\"pelabuhan\", malay_nouns, state)\n",
    "\n",
    "def malay_nouns(state):\n",
    "    entry_t(\"+Noun\", \"^\", malay_number, state)\n",
    "    \n",
    "def malay_number(state):\n",
    "    entry_t(\"+Unmarked\", \"\", None, state)\n",
    "    entry_t(\"+Plural\", \"D\", None, state)\n",
    "    \n",
    "load_lexicon(root, None)\n",
    "\n",
    "generate_all()"
   ]
  },
  {
   "cell_type": "markdown",
   "metadata": {},
   "source": [
    "We need two rules now: One rule is supposed to replace the special character D with whatever stem precedes it. The other rule needs to delete our end of stem marker ^:"
   ]
  },
  {
   "cell_type": "code",
   "execution_count": null,
   "metadata": {},
   "outputs": [],
   "source": [
    "def rules(input):\n",
    "    \"\"\" Stem reduplication in Malay nouns \"\"\"\n",
    "    \n",
    "    # Rule 1\n",
    "    replace(r'D', r'\\g<stem>', r'^(?P<stem>.+)\\^', r'', input)\n",
    "    \n",
    "    # Rule 2\n",
    "    replace(r'\\^', r'', r'', r'', input)\n",
    "    \n",
    "load_lexicon(root, rules)\n",
    "\n",
    "generate_all()"
   ]
  },
  {
   "cell_type": "markdown",
   "metadata": {},
   "source": [
    "As usual, you can trace the replacement process with the _apply_ command:"
   ]
  },
  {
   "cell_type": "code",
   "execution_count": null,
   "metadata": {},
   "outputs": [],
   "source": [
    "apply(rules, \"lembu^D\", debug=True)"
   ]
  },
  {
   "cell_type": "markdown",
   "metadata": {},
   "source": [
    "When you are done with this page, continue to Part 5."
   ]
  }
 ],
 "metadata": {
  "kernelspec": {
   "display_name": "Python 3 (ipykernel)",
   "language": "python",
   "name": "python3"
  },
  "language_info": {
   "codemirror_mode": {
    "name": "ipython",
    "version": 3
   },
   "file_extension": ".py",
   "mimetype": "text/x-python",
   "name": "python",
   "nbconvert_exporter": "python",
   "pygments_lexer": "ipython3",
   "version": "3.10.6"
  }
 },
 "nbformat": 4,
 "nbformat_minor": 2
}
